{
  "cells": [
    {
      "cell_type": "code",
      "metadata": {},
      "source": [
        "pip in"
      ],
      "execution_count": 2,
      "outputs": []
    },
    {
      "cell_type": "code",
      "metadata": {},
      "source": [
        "print(\"Hello\")"
      ],
      "execution_count": 2,
      "outputs": []
    },
    {
      "cell_type": "code",
      "metadata": {},
      "source": [
        "g = [1, 2, 3, 4, 5, 6, 7, 8]\n",
        "print(g)"
      ],
      "execution_count": 1,
      "outputs": []
    },
    {
      "cell_type": "code",
      "metadata": {},
      "source": [
        "z = [1, 2, 3, 4, 5]"
      ],
      "execution_count": 5,
      "outputs": []
    },
    {
      "cell_type": "code",
      "metadata": {},
      "source": [
        "import pandas as pdimport numpy as np# Regular variablesx = 42y = \"hello world\"# Data structuresdf = pd.DataFrame({    'a': [1, 2, 3],    'b': [4, 5, 6],    'c': [7, 8, 9]})# Large DataFramelarge_df = pd.DataFrame({    'column1': range(100),    'column2': range(100, 200),    'column3': range(200, 300),    'column4': range(300, 400),    'column5': range(400, 500)})# Seriesseries = pd.Series([1, 2, 3, 4, 5])# Numpy arrayarr = np.array([[1, 2, 3], [4, 5, 6]])# Environment variablesAPI_KEY = \"sk-1234567890abcdefghijklmnopqrstuvwxyz\"DB_HOST = \"localhost\""
      ],
      "execution_count": 2,
      "outputs": []
    }
  ],
  "metadata": {
    "kernelspec": {
      "display_name": "Python 3",
      "language": "python",
      "name": "python3"
    },
    "language_info": {
      "name": "python",
      "version": "3.11.0"
    }
  },
  "nbformat": 4,
  "nbformat_minor": 5
}