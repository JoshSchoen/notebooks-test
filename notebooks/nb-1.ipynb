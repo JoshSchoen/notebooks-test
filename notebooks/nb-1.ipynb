{
  "cells": [
    {
      "id": "cell-1761769033144-cthcdwkrj",
      "type": "code",
      "content": "g = [1, 2, 3, 4, 5]",
      "kernel_type": "python",
      "output": null,
      "execution_count": null,
      "created_at": "2025-10-29T20:17:13.144Z",
      "updated_at": null
    },
    {
      "id": "cell-1761757564737-zfau9fjoh",
      "type": "code",
      "content": "z = [1, 2, 3, 4, 5]",
      "kernel_type": "python",
      "output": null,
      "execution_count": null,
      "created_at": "2025-10-29T17:06:04.737Z",
      "updated_at": null
    },
    {
      "id": "cell-1761711050909",
      "type": "code",
      "content": "import pandas as pd\nimport numpy as np\n\n# Regular variables\nx = 42\ny = \"hello world\"\n\n\n# Data structures\ndf = pd.DataFrame({\n    'a': [1, 2, 3],\n    'b': [4, 5, 6],\n    'c': [7, 8, 9]\n})\n\n# Large DataFrame\nlarge_df = pd.DataFrame({\n    'column1': range(100),\n    'column2': range(100, 200),\n    'column3': range(200, 300),\n    'column4': range(300, 400),\n    'column5': range(400, 500)\n})\n\n# Series\nseries = pd.Series([1, 2, 3, 4, 5])\n\n# Numpy array\narr = np.array([[1, 2, 3], [4, 5, 6]])\n\n# Environment variables\nAPI_KEY = \"sk-1234567890abcdefghijklmnopqrstuvwxyz\"\nDB_HOST = \"localhost\"",
      "kernel_type": "python",
      "output": {
        "success": true,
        "output": null,
        "error": null,
        "execution_count": 1,
        "data": null
      },
      "execution_count": 1,
      "created_at": "2025-10-29T04:10:50.909Z",
      "updated_at": null
    }
  ],
  "metadata": null
}